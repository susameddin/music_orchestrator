{
 "cells": [
  {
   "cell_type": "code",
   "execution_count": null,
   "id": "eff2f372",
   "metadata": {},
   "outputs": [],
   "source": [
    "import os\n",
    "import torch\n",
    "import librosa\n",
    "\n",
    "import numpy as np\n",
    "\n",
    "from scipy.stats import zscore\n",
    "\n",
    "from IPython.display import Audio, display\n",
    "#from transformers import AutoProcessor, MusicgenMelodyForConditionalGeneration\n",
    "\n",
    "import torchaudio\n",
    "from audiocraft.models import MusicGen\n",
    "from audiocraft.utils.notebook import display_audio\n",
    "from audiocraft.utils import export"
   ]
  },
  {
   "cell_type": "code",
   "execution_count": null,
   "id": "78440d5c",
   "metadata": {},
   "outputs": [],
   "source": [
    "# model_name = 'both_indv_mix'\n",
    "# export.export_lm(f'/home/sd3705/music_gen_2024f/audiocraft_output_sd3705/xps/{model_name}/checkpoint.th', f'../audiocraft/checkpoints/{model_name}/state_dict.bin')\n",
    "# export.export_pretrained_compression_model('facebook/encodec_32khz', f'../audiocraft/checkpoints/{model_name}/compression_state_dict.bin')\n",
    "\n",
    "# model_name = 'only_mix'\n",
    "# export.export_lm(f'/home/sd3705/music_gen_2024f/audiocraft_output_sd3705/xps/{model_name}/checkpoint.th', f'../audiocraft/checkpoints/{model_name}/state_dict.bin')\n",
    "# export.export_pretrained_compression_model('facebook/encodec_32khz', f'../audiocraft/checkpoints/{model_name}/compression_state_dict.bin')\n",
    "\n",
    "# model_name = 'with_submixes'\n",
    "# export.export_lm(f'/home/sd3705/music_gen_2024f/audiocraft_output_sd3705/xps/{model_name}/checkpoint.th', f'../audiocraft/checkpoints/{model_name}/state_dict.bin')\n",
    "# export.export_pretrained_compression_model('facebook/encodec_32khz', f'../audiocraft/checkpoints/{model_name}/compression_state_dict.bin')"
   ]
  },
  {
   "cell_type": "code",
   "execution_count": null,
   "id": "52989fca",
   "metadata": {},
   "outputs": [],
   "source": [
    "slakh_path = \"/engram/naplab/shared/Slakh2100/slakh2100_flac_redux\"\n",
    "track_path = \"test/Track01881\""
   ]
  },
  {
   "cell_type": "code",
   "execution_count": null,
   "id": "027c7475",
   "metadata": {
    "scrolled": true
   },
   "outputs": [],
   "source": [
    "#aud_input, sr = librosa.load(os.path.join(slakh_path,track_path,'stems','S02.flac'), sr=None)\n",
    "aud_input, sr = torchaudio.load(os.path.join(slakh_path,track_path,'stems','S02.flac'))\n",
    "aud_input = aud_input[:,int(sr*1.5):int(sr*11.5)]\n",
    "aud_input_repeated = aud_input.unsqueeze(1).repeat(4,1,1)\n",
    "display_audio(aud_input,sample_rate=sr)"
   ]
  },
  {
   "cell_type": "code",
   "execution_count": null,
   "id": "9c6b41fc",
   "metadata": {},
   "outputs": [],
   "source": [
    "model_name = 'original'\n",
    "model = MusicGen.get_pretrained('facebook/musicgen-melody')\n",
    "model.set_generation_params(duration=10)\n",
    "\n",
    "output = model.generate_with_chroma(\n",
    "    descriptions=[\n",
    "        'Acoustic Guitar',\n",
    "        'Acoustic Guitar, Halo Pad',\n",
    "        'Acoustic Guitar, Halo Pad, Rock Organ',\n",
    "        'Acoustic Guitar, Halo Pad, Rock Organ, Drums'\n",
    "    ],\n",
    "    melody_wavs=aud_input_repeated,\n",
    "    melody_sample_rate=sr,\n",
    "    progress=True, return_tokens=True\n",
    ")\n",
    "display_audio(output[0], sample_rate=32000)\n",
    "\n",
    "output_path = 'Samples/Project Update'\n",
    "output_cpu = output[0].to('cpu')\n",
    "torchaudio.save(os.path.join(output_path,f\"1_{model_name}.wav\"), output_cpu[0], 32000)\n",
    "torchaudio.save(os.path.join(output_path,f\"2_{model_name}.wav\"), output_cpu[1], 32000)\n",
    "torchaudio.save(os.path.join(output_path,f\"3_{model_name}.wav\"), output_cpu[2], 32000)\n",
    "torchaudio.save(os.path.join(output_path,f\"4_{model_name}.wav\"), output_cpu[3], 32000)"
   ]
  },
  {
   "cell_type": "code",
   "execution_count": null,
   "id": "a0c84ea5",
   "metadata": {},
   "outputs": [],
   "source": [
    "model_name = 'both_indv_mix'\n",
    "model = MusicGen.get_pretrained(f'../audiocraft/checkpoints/{model_name}/')\n",
    "model.set_generation_params(duration=10)\n",
    "\n",
    "output = model.generate_with_chroma(\n",
    "    descriptions=[\n",
    "        'Acoustic Guitar',\n",
    "        'Acoustic Guitar, Halo Pad',\n",
    "        'Acoustic Guitar, Halo Pad, Rock Organ',\n",
    "        'Acoustic Guitar, Halo Pad, Rock Organ, Drums'\n",
    "    ],\n",
    "    melody_wavs=aud_input_repeated,\n",
    "    melody_sample_rate=sr,\n",
    "    progress=True, return_tokens=True\n",
    ")\n",
    "display_audio(output[0], sample_rate=32000)\n",
    "\n",
    "output_path = 'Samples/Project Update'\n",
    "output_cpu = output[0].to('cpu')\n",
    "torchaudio.save(os.path.join(output_path,f\"1_{model_name}.wav\"), output_cpu[0], 32000)\n",
    "torchaudio.save(os.path.join(output_path,f\"2_{model_name}.wav\"), output_cpu[1], 32000)\n",
    "torchaudio.save(os.path.join(output_path,f\"3_{model_name}.wav\"), output_cpu[2], 32000)\n",
    "torchaudio.save(os.path.join(output_path,f\"4_{model_name}.wav\"), output_cpu[3], 32000)"
   ]
  },
  {
   "cell_type": "code",
   "execution_count": null,
   "id": "ce42ce53",
   "metadata": {},
   "outputs": [],
   "source": [
    "model_name = 'only_mix'\n",
    "model = MusicGen.get_pretrained(f'../audiocraft/checkpoints/{model_name}/')\n",
    "model.set_generation_params(duration=10)\n",
    "\n",
    "output = model.generate_with_chroma(\n",
    "    descriptions=[\n",
    "        'Acoustic Guitar',\n",
    "        'Acoustic Guitar, Halo Pad',\n",
    "        'Acoustic Guitar, Halo Pad, Rock Organ',\n",
    "        'Acoustic Guitar, Halo Pad, Rock Organ, Drums'\n",
    "    ],\n",
    "    melody_wavs=aud_input_repeated,\n",
    "    melody_sample_rate=sr,\n",
    "    progress=True, return_tokens=True\n",
    ")\n",
    "display_audio(output[0], sample_rate=32000)\n",
    "\n",
    "output_path = 'Samples/Project Update'\n",
    "output_cpu = output[0].to('cpu')\n",
    "torchaudio.save(os.path.join(output_path,f\"1_{model_name}.wav\"), output_cpu[0], 32000)\n",
    "torchaudio.save(os.path.join(output_path,f\"2_{model_name}.wav\"), output_cpu[1], 32000)\n",
    "torchaudio.save(os.path.join(output_path,f\"3_{model_name}.wav\"), output_cpu[2], 32000)\n",
    "torchaudio.save(os.path.join(output_path,f\"4_{model_name}.wav\"), output_cpu[3], 32000)"
   ]
  },
  {
   "cell_type": "code",
   "execution_count": null,
   "id": "3f0e7c95",
   "metadata": {},
   "outputs": [],
   "source": [
    "model_name = 'with_submixes'\n",
    "model = MusicGen.get_pretrained(f'../audiocraft/checkpoints/{model_name}/')\n",
    "model.set_generation_params(duration=10)\n",
    "\n",
    "output = model.generate_with_chroma(\n",
    "    descriptions=[\n",
    "        'Acoustic Guitar',\n",
    "        'Acoustic Guitar, Halo Pad',\n",
    "        'Acoustic Guitar, Halo Pad, Rock Organ',\n",
    "        'Acoustic Guitar, Halo Pad, Rock Organ, Drums'\n",
    "    ],\n",
    "    melody_wavs=aud_input_repeated,\n",
    "    melody_sample_rate=sr,\n",
    "    progress=True, return_tokens=True\n",
    ")\n",
    "display_audio(output[0], sample_rate=32000)\n",
    "\n",
    "output_path = 'Samples/Project Update'\n",
    "output_cpu = output[0].to('cpu')\n",
    "torchaudio.save(os.path.join(output_path,f\"1_{model_name}.wav\"), output_cpu[0], 32000)\n",
    "torchaudio.save(os.path.join(output_path,f\"2_{model_name}.wav\"), output_cpu[1], 32000)\n",
    "torchaudio.save(os.path.join(output_path,f\"3_{model_name}.wav\"), output_cpu[2], 32000)\n",
    "torchaudio.save(os.path.join(output_path,f\"4_{model_name}.wav\"), output_cpu[3], 32000)"
   ]
  },
  {
   "cell_type": "code",
   "execution_count": null,
   "id": "a74dcb3d",
   "metadata": {},
   "outputs": [],
   "source": []
  },
  {
   "cell_type": "code",
   "execution_count": null,
   "id": "66c4e39d",
   "metadata": {},
   "outputs": [],
   "source": []
  },
  {
   "cell_type": "code",
   "execution_count": null,
   "id": "1bae347d",
   "metadata": {},
   "outputs": [],
   "source": [
    "#model = MusicGen.get_pretrained('facebook/musicgen-melody')\n",
    "model = MusicGen.get_pretrained('../audiocraft/checkpoints/both_indv_mix/')\n",
    "model.set_generation_params(duration=8)\n",
    "\n",
    "#melody_waveform, sr = torchaudio.load(\"../audiocraft/assets/bach.mp3\")\n",
    "#melody_waveform = melody_waveform.unsqueeze(0).repeat(2, 1, 1)\n",
    "melody_waveform, sr = torchaudio.load(os.path.join(slakh_path,track_path,'stems','S02.flac'))\n",
    "sr = sr\n",
    "output = model.generate_with_chroma(\n",
    "    descriptions=[\n",
    "        'Acoustic Guitar',\n",
    "    ],\n",
    "    melody_wavs=melody_waveform,\n",
    "    melody_sample_rate=sr,\n",
    "    progress=True, return_tokens=True\n",
    ")\n",
    "display_audio(output[0], sample_rate=32000)"
   ]
  },
  {
   "cell_type": "code",
   "execution_count": null,
   "id": "f6f527bd",
   "metadata": {},
   "outputs": [],
   "source": []
  },
  {
   "cell_type": "code",
   "execution_count": null,
   "id": "128ac10c",
   "metadata": {},
   "outputs": [],
   "source": []
  },
  {
   "cell_type": "code",
   "execution_count": null,
   "id": "756b4877",
   "metadata": {},
   "outputs": [],
   "source": []
  },
  {
   "cell_type": "code",
   "execution_count": null,
   "id": "90c77d5c",
   "metadata": {},
   "outputs": [],
   "source": [
    "#Original"
   ]
  },
  {
   "cell_type": "code",
   "execution_count": null,
   "id": "05014862",
   "metadata": {},
   "outputs": [],
   "source": [
    "processor = AutoProcessor.from_pretrained(\"facebook/musicgen-melody\")\n",
    "model = MusicgenMelodyForConditionalGeneration.from_pretrained(\"facebook/musicgen-melody\")"
   ]
  },
  {
   "cell_type": "code",
   "execution_count": null,
   "id": "50192825",
   "metadata": {},
   "outputs": [],
   "source": [
    "inputs = processor(\n",
    "    audio=torch.tensor(aud_input),\n",
    "    sampling_rate=sr,\n",
    "    text=[\"Acoustic Guitar\"],\n",
    "    padding=True,\n",
    "    return_tensors=\"pt\",\n",
    ")\n",
    "audio_values = model.generate(**inputs, do_sample=True, guidance_scale=3, max_new_tokens=512)\n",
    "display(Audio(audio_values[0].numpy(), rate=sr))"
   ]
  },
  {
   "cell_type": "code",
   "execution_count": null,
   "id": "ca0c08f4",
   "metadata": {},
   "outputs": [],
   "source": [
    "inputs = processor(\n",
    "    audio=torch.tensor(aud_input),\n",
    "    sampling_rate=sr,\n",
    "    text=[\"Acoustic Guitar, Pad 7 (Halo Pad)\"],\n",
    "    padding=True,\n",
    "    return_tensors=\"pt\",\n",
    ")\n",
    "audio_values = model.generate(**inputs, do_sample=True, guidance_scale=3, max_new_tokens=512)\n",
    "display(Audio(audio_values[0].numpy(), rate=sr))"
   ]
  },
  {
   "cell_type": "code",
   "execution_count": null,
   "id": "fbca1586",
   "metadata": {},
   "outputs": [],
   "source": [
    "inputs = processor(\n",
    "    audio=torch.tensor(aud_input),\n",
    "    sampling_rate=sr,\n",
    "    text=[\"Acoustic Guitar, Pad 7 (Halo Pad), Clairnet\"],\n",
    "    padding=True,\n",
    "    return_tensors=\"pt\",\n",
    ")\n",
    "audio_values = model.generate(**inputs, do_sample=True, guidance_scale=3, max_new_tokens=512)\n",
    "display(Audio(audio_values[0].numpy(), rate=sr))"
   ]
  },
  {
   "cell_type": "code",
   "execution_count": null,
   "id": "34033401",
   "metadata": {},
   "outputs": [],
   "source": [
    "processor = AutoProcessor.from_pretrained(\"facebook/musicgen-melody\")\n",
    "model = MusicgenMelodyForConditionalGeneration.from_pretrained(\"facebook/musicgen-melody\")"
   ]
  },
  {
   "cell_type": "code",
   "execution_count": null,
   "id": "1d510106",
   "metadata": {},
   "outputs": [],
   "source": [
    "checkpoint_path = \"/home/sd3705/music_gen_2024f/audiocraft_output_sd3705/xps/both_indv_mix/checkpoint.th\"\n",
    "checkpoint = torch.load(checkpoint_path, map_location=torch.device('cpu'))\n",
    "model.load_state_dict(checkpoint, strict=False)"
   ]
  },
  {
   "cell_type": "code",
   "execution_count": null,
   "id": "2267283a",
   "metadata": {},
   "outputs": [],
   "source": [
    "inputs = processor(\n",
    "    audio=torch.tensor(aud_input),\n",
    "    sampling_rate=sr,\n",
    "    text=[\"Acoustic Guitar\"],\n",
    "    padding=True,\n",
    "    return_tensors=\"pt\",\n",
    ")\n",
    "audio_values = model.generate(**inputs, do_sample=True, guidance_scale=3, max_new_tokens=512)\n",
    "display(Audio(audio_values[0].numpy(), rate=sr))"
   ]
  },
  {
   "cell_type": "code",
   "execution_count": null,
   "id": "419636d4",
   "metadata": {},
   "outputs": [],
   "source": [
    "inputs = processor(\n",
    "    audio=torch.tensor(aud_input),\n",
    "    sampling_rate=sr,\n",
    "    text=[\"Acoustic Guitar, Pad 7 (Halo Pad)\"],\n",
    "    padding=True,\n",
    "    return_tensors=\"pt\",\n",
    ")\n",
    "audio_values = model.generate(**inputs, do_sample=True, guidance_scale=3, max_new_tokens=512)\n",
    "display(Audio(audio_values[0].numpy(), rate=sr))"
   ]
  },
  {
   "cell_type": "code",
   "execution_count": null,
   "id": "6db18f73",
   "metadata": {},
   "outputs": [],
   "source": [
    "inputs = processor(\n",
    "    audio=torch.tensor(aud_input),\n",
    "    sampling_rate=sr,\n",
    "    text=[\"Acoustic Guitar, Pad 7 (Halo Pad), Clairnet\"],\n",
    "    padding=True,\n",
    "    return_tensors=\"pt\",\n",
    ")\n",
    "audio_values = model.generate(**inputs, do_sample=True, guidance_scale=3, max_new_tokens=512)\n",
    "display(Audio(audio_values[0].numpy(), rate=sr))"
   ]
  },
  {
   "cell_type": "code",
   "execution_count": null,
   "id": "3f1287d9",
   "metadata": {},
   "outputs": [],
   "source": [
    "checkpoint_path = \"/home/sd3705/music_gen_2024f/audiocraft_output_sd3705/xps/only_mix/checkpoint.th\"\n",
    "checkpoint = torch.load(checkpoint_path, map_location=torch.device('cpu'))\n",
    "model.load_state_dict(checkpoint, strict=False)"
   ]
  },
  {
   "cell_type": "code",
   "execution_count": null,
   "id": "b84c3ee8",
   "metadata": {},
   "outputs": [],
   "source": [
    "inputs = processor(\n",
    "    audio=torch.tensor(aud_input),\n",
    "    sampling_rate=sr,\n",
    "    text=[\"Acoustic Guitar\"],\n",
    "    padding=True,\n",
    "    return_tensors=\"pt\",\n",
    ")\n",
    "audio_values = model.generate(**inputs, do_sample=True, guidance_scale=3, max_new_tokens=512)\n",
    "display(Audio(audio_values[0].numpy(), rate=sr))"
   ]
  },
  {
   "cell_type": "code",
   "execution_count": null,
   "id": "09c281e1",
   "metadata": {},
   "outputs": [],
   "source": [
    "inputs = processor(\n",
    "    audio=torch.tensor(aud_input),\n",
    "    sampling_rate=sr,\n",
    "    text=[\"Acoustic Guitar, Pad 7 (Halo Pad)\"],\n",
    "    padding=True,\n",
    "    return_tensors=\"pt\",\n",
    ")\n",
    "audio_values = model.generate(**inputs, do_sample=True, guidance_scale=3, max_new_tokens=512)\n",
    "display(Audio(audio_values[0].numpy(), rate=sr))"
   ]
  },
  {
   "cell_type": "code",
   "execution_count": null,
   "id": "2dea59dc",
   "metadata": {},
   "outputs": [],
   "source": [
    "inputs = processor(\n",
    "    audio=torch.tensor(aud_input),\n",
    "    sampling_rate=sr,\n",
    "    text=[\"Acoustic Guitar, Pad 7 (Halo Pad), Clairnet\"],\n",
    "    padding=True,\n",
    "    return_tensors=\"pt\",\n",
    ")\n",
    "audio_values = model.generate(**inputs, do_sample=True, guidance_scale=3, max_new_tokens=512)\n",
    "display(Audio(audio_values[0].numpy(), rate=sr))"
   ]
  },
  {
   "cell_type": "code",
   "execution_count": null,
   "id": "086652e8",
   "metadata": {},
   "outputs": [],
   "source": [
    "checkpoint_path = \"/home/sd3705/music_gen_2024f/audiocraft_output_sd3705/xps/with_submixes/checkpoint.th\"\n",
    "checkpoint = torch.load(checkpoint_path, map_location=torch.device('cpu'))\n",
    "model.load_state_dict(checkpoint, strict=False)"
   ]
  },
  {
   "cell_type": "code",
   "execution_count": null,
   "id": "bd93b36e",
   "metadata": {},
   "outputs": [],
   "source": [
    "inputs = processor(\n",
    "    audio=torch.tensor(aud_input),\n",
    "    sampling_rate=sr,\n",
    "    text=[\"Acoustic Guitar\"],\n",
    "    padding=True,\n",
    "    return_tensors=\"pt\",\n",
    ")\n",
    "audio_values = model.generate(**inputs, do_sample=True, guidance_scale=3, max_new_tokens=512)\n",
    "display(Audio(audio_values[0].numpy(), rate=sr))"
   ]
  },
  {
   "cell_type": "code",
   "execution_count": null,
   "id": "60545c9a",
   "metadata": {},
   "outputs": [],
   "source": [
    "inputs = processor(\n",
    "    audio=torch.tensor(aud_input),\n",
    "    sampling_rate=sr,\n",
    "    text=[\"Acoustic Guitar, Pad 7 (Halo Pad)\"],\n",
    "    padding=True,\n",
    "    return_tensors=\"pt\",\n",
    ")\n",
    "audio_values = model.generate(**inputs, do_sample=True, guidance_scale=3, max_new_tokens=512)\n",
    "display(Audio(audio_values[0].numpy(), rate=sr))"
   ]
  },
  {
   "cell_type": "code",
   "execution_count": null,
   "id": "a9006581",
   "metadata": {},
   "outputs": [],
   "source": [
    "inputs = processor(\n",
    "    audio=torch.tensor(aud_input),\n",
    "    sampling_rate=sr,\n",
    "    text=[\"Acoustic Guitar, Pad 7 (Halo Pad), Clairnet\"],\n",
    "    padding=True,\n",
    "    return_tensors=\"pt\",\n",
    ")\n",
    "audio_values = model.generate(**inputs, do_sample=True, guidance_scale=3, max_new_tokens=512)\n",
    "display(Audio(audio_values[0].numpy(), rate=sr))"
   ]
  },
  {
   "cell_type": "code",
   "execution_count": null,
   "id": "1ae7b5bc",
   "metadata": {},
   "outputs": [],
   "source": []
  },
  {
   "cell_type": "code",
   "execution_count": null,
   "id": "c6a42bbd",
   "metadata": {},
   "outputs": [],
   "source": []
  },
  {
   "cell_type": "code",
   "execution_count": null,
   "id": "d411e27c",
   "metadata": {},
   "outputs": [],
   "source": []
  },
  {
   "cell_type": "code",
   "execution_count": null,
   "id": "40b74817",
   "metadata": {},
   "outputs": [],
   "source": []
  },
  {
   "cell_type": "code",
   "execution_count": null,
   "id": "0fe1c569",
   "metadata": {},
   "outputs": [],
   "source": []
  },
  {
   "cell_type": "code",
   "execution_count": null,
   "id": "f71b0e75",
   "metadata": {},
   "outputs": [],
   "source": [
    "audio, sr = librosa.load(os.path.join(slakh_path,track_path,\"mix.flac\"), sr=None)"
   ]
  },
  {
   "cell_type": "code",
   "execution_count": null,
   "id": "84a573fc",
   "metadata": {},
   "outputs": [],
   "source": [
    "Audio(audio,rate=sr)"
   ]
  },
  {
   "cell_type": "code",
   "execution_count": null,
   "id": "1b955dba",
   "metadata": {
    "scrolled": false
   },
   "outputs": [],
   "source": [
    "for aud_file in [file for file in os.listdir(os.path.join(slakh_path,track_path,'stems')) if file.endswith('.flac')]:\n",
    "    print(aud_file)\n",
    "    aud, sr = librosa.load(os.path.join(slakh_path,track_path,'stems',aud_file), sr=None)\n",
    "    display(Audio(aud,rate=sr))"
   ]
  },
  {
   "cell_type": "code",
   "execution_count": null,
   "id": "24f51d68",
   "metadata": {
    "scrolled": false
   },
   "outputs": [],
   "source": [
    "processor = AutoProcessor.from_pretrained(\"facebook/musicgen-melody\")\n",
    "model = MusicgenMelodyForConditionalGeneration.from_pretrained(\"facebook/musicgen-melody\")"
   ]
  },
  {
   "cell_type": "code",
   "execution_count": null,
   "id": "a4350d54",
   "metadata": {
    "scrolled": true
   },
   "outputs": [],
   "source": [
    "checkpoint_path = \"/home/sd3705/music_gen_2024f/audiocraft_output_sd3705/xps/both_indv_mix/checkpoint.th\"\n",
    "checkpoint = torch.load(checkpoint_path, map_location=torch.device('cpu'))  # or 'cuda' if GPU is available"
   ]
  },
  {
   "cell_type": "code",
   "execution_count": null,
   "id": "f43824d6",
   "metadata": {},
   "outputs": [],
   "source": [
    "model.load_state_dict(checkpoint, strict=False)"
   ]
  },
  {
   "cell_type": "code",
   "execution_count": null,
   "id": "85ab9d1e",
   "metadata": {},
   "outputs": [],
   "source": []
  },
  {
   "cell_type": "code",
   "execution_count": null,
   "id": "d69e10ff",
   "metadata": {},
   "outputs": [],
   "source": []
  },
  {
   "cell_type": "code",
   "execution_count": null,
   "id": "36043d66",
   "metadata": {},
   "outputs": [],
   "source": []
  },
  {
   "cell_type": "code",
   "execution_count": null,
   "id": "9f27fbc1",
   "metadata": {},
   "outputs": [],
   "source": []
  },
  {
   "cell_type": "code",
   "execution_count": null,
   "id": "95e2e005",
   "metadata": {},
   "outputs": [],
   "source": []
  },
  {
   "cell_type": "code",
   "execution_count": null,
   "id": "06a199a6",
   "metadata": {},
   "outputs": [],
   "source": []
  },
  {
   "cell_type": "code",
   "execution_count": null,
   "id": "cdee9b35",
   "metadata": {},
   "outputs": [],
   "source": []
  },
  {
   "cell_type": "code",
   "execution_count": null,
   "id": "87723bc7",
   "metadata": {},
   "outputs": [],
   "source": []
  },
  {
   "cell_type": "code",
   "execution_count": null,
   "id": "e78f6b03",
   "metadata": {
    "scrolled": true
   },
   "outputs": [],
   "source": [
    "aud_input = librosa.load(os.path.join(slakh_path,track_path,'stems','S01.flac'), sr=None)[0]\n",
    "aud_input = aud_input[int(sr*1.5):int(sr*11.5)]\n",
    "display(Audio(aud_input,rate=sr))"
   ]
  },
  {
   "cell_type": "code",
   "execution_count": null,
   "id": "327f04cd",
   "metadata": {},
   "outputs": [],
   "source": [
    "aud_output = librosa.load(os.path.join(slakh_path,track_path,'stems','S02.flac'), sr=None)[0]\n",
    "aud_output = aud_output[int(sr*1.5):int(sr*11.5)]\n",
    "display(Audio(aud_output,rate=sr))"
   ]
  },
  {
   "cell_type": "code",
   "execution_count": null,
   "id": "0fc2b662",
   "metadata": {},
   "outputs": [],
   "source": [
    "inputs = processor(\n",
    "    audio=torch.tensor(aud_input),\n",
    "    sampling_rate=sr,\n",
    "    text=[\"Grand Piano\"],\n",
    "    padding=True,\n",
    "    return_tensors=\"pt\",\n",
    ")\n",
    "audio_values = model.generate(**inputs, do_sample=True, guidance_scale=3, max_new_tokens=512)"
   ]
  },
  {
   "cell_type": "code",
   "execution_count": null,
   "id": "5a53b842",
   "metadata": {},
   "outputs": [],
   "source": [
    "sampling_rate = model.config.audio_encoder.sampling_rate\n",
    "Audio(audio_values[0].numpy(), rate=sampling_rate)"
   ]
  },
  {
   "cell_type": "code",
   "execution_count": null,
   "id": "393f2625",
   "metadata": {},
   "outputs": [],
   "source": [
    "inputs = processor(\n",
    "    audio=torch.tensor(aud_input),\n",
    "    sampling_rate=sr,\n",
    "    text=[\"add piano to the track\"],\n",
    "    padding=True,\n",
    "    return_tensors=\"pt\",\n",
    ")\n",
    "audio_values = model.generate(**inputs, do_sample=True, guidance_scale=3, max_new_tokens=512)"
   ]
  },
  {
   "cell_type": "code",
   "execution_count": null,
   "id": "542325c5",
   "metadata": {},
   "outputs": [],
   "source": [
    "sampling_rate = model.config.audio_encoder.sampling_rate\n",
    "Audio(audio_values[0].numpy(), rate=sampling_rate)"
   ]
  },
  {
   "cell_type": "code",
   "execution_count": null,
   "id": "96ab2c88",
   "metadata": {},
   "outputs": [],
   "source": [
    "inputs = processor(\n",
    "    audio=torch.tensor(aud_input),\n",
    "    sampling_rate=sr,\n",
    "    text=[\"piano, electro guitar\"],\n",
    "    padding=True,\n",
    "    return_tensors=\"pt\",\n",
    ")\n",
    "audio_values = model.generate(**inputs, do_sample=True, guidance_scale=3, max_new_tokens=512)"
   ]
  },
  {
   "cell_type": "code",
   "execution_count": null,
   "id": "7c5029bf",
   "metadata": {},
   "outputs": [],
   "source": [
    "sampling_rate = model.config.audio_encoder.sampling_rate\n",
    "Audio(audio_values[0].numpy(), rate=sampling_rate)"
   ]
  },
  {
   "cell_type": "code",
   "execution_count": null,
   "id": "78093794",
   "metadata": {},
   "outputs": [],
   "source": [
    "inputs = processor(\n",
    "    audio=torch.tensor(aud_input),\n",
    "    sampling_rate=sr,\n",
    "    text=[\"only piano\"],\n",
    "    padding=True,\n",
    "    return_tensors=\"pt\",\n",
    ")\n",
    "only_piano = model.generate(**inputs, do_sample=True, guidance_scale=3, max_new_tokens=512)"
   ]
  },
  {
   "cell_type": "code",
   "execution_count": null,
   "id": "4ba5bc64",
   "metadata": {},
   "outputs": [],
   "source": [
    "Audio(only_piano[0].numpy(), rate=sampling_rate)"
   ]
  },
  {
   "cell_type": "code",
   "execution_count": null,
   "id": "422cc349",
   "metadata": {},
   "outputs": [],
   "source": [
    "aud_input.shape"
   ]
  },
  {
   "cell_type": "code",
   "execution_count": null,
   "id": "b089ea84",
   "metadata": {},
   "outputs": [],
   "source": [
    "only_piano.squeeze().numpy().shape"
   ]
  },
  {
   "cell_type": "code",
   "execution_count": null,
   "id": "29b519ef",
   "metadata": {
    "scrolled": true
   },
   "outputs": [],
   "source": [
    "only_guitar = aud_input[:only_piano.shape[0]]\n",
    "#only_piano = only_piano.squeeze().numpy()"
   ]
  },
  {
   "cell_type": "code",
   "execution_count": null,
   "id": "e0bd7d4b",
   "metadata": {
    "scrolled": true
   },
   "outputs": [],
   "source": [
    "np.mean(only_guitar)"
   ]
  },
  {
   "cell_type": "code",
   "execution_count": null,
   "id": "aa284b6a",
   "metadata": {},
   "outputs": [],
   "source": [
    "zscore(only_guitar).shape"
   ]
  },
  {
   "cell_type": "code",
   "execution_count": null,
   "id": "6e93781b",
   "metadata": {},
   "outputs": [],
   "source": [
    "Audio(zscore(only_guitar), rate=sampling_rate)"
   ]
  },
  {
   "cell_type": "code",
   "execution_count": null,
   "id": "99bec624",
   "metadata": {
    "scrolled": false
   },
   "outputs": [],
   "source": [
    "Audio(zscore(only_piano)+zscore(only_guitar), rate=sampling_rate)"
   ]
  }
 ],
 "metadata": {
  "kernelspec": {
   "display_name": "Python (audiocraft)",
   "language": "python",
   "name": "audiocraft"
  },
  "language_info": {
   "codemirror_mode": {
    "name": "ipython",
    "version": 3
   },
   "file_extension": ".py",
   "mimetype": "text/x-python",
   "name": "python",
   "nbconvert_exporter": "python",
   "pygments_lexer": "ipython3",
   "version": "3.9.20"
  }
 },
 "nbformat": 4,
 "nbformat_minor": 5
}

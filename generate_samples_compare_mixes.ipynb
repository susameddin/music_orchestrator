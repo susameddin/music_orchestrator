{
 "cells": [
  {
   "cell_type": "code",
   "execution_count": null,
   "id": "8ba88ecb",
   "metadata": {},
   "outputs": [],
   "source": [
    "import torchaudio\n",
    "import os"
   ]
  },
  {
   "cell_type": "code",
   "execution_count": null,
   "id": "eff2f372",
   "metadata": {},
   "outputs": [],
   "source": [
    "import os\n",
    "import torch\n",
    "import librosa\n",
    "\n",
    "import numpy as np\n",
    "\n",
    "from scipy.stats import zscore\n",
    "\n",
    "from IPython.display import Audio, display\n",
    "\n",
    "subfolder_path = os.path.abspath(\"audiocraft\")\n",
    "sys.path.append(subfolder_path)\n",
    "\n",
    "import torchaudio\n",
    "from audiocraft.models import MusicGen\n",
    "from audiocraft.utils.notebook import display_audio\n",
    "from audiocraft.utils import export"
   ]
  },
  {
   "cell_type": "code",
   "execution_count": null,
   "id": "78440d5c",
   "metadata": {},
   "outputs": [],
   "source": [
    "#This block is for loading the trained models into the audiocraft module for using them to generate music with the python package\n",
    "model_name = 'both_indv_mix'\n",
    "export.export_lm(f'/home/sd3705/music_gen_2024f/audiocraft_output_sd3705/xps/{model_name}/checkpoint.th', f'../audiocraft/checkpoints/{model_name}/state_dict.bin')\n",
    "export.export_pretrained_compression_model('facebook/encodec_32khz', f'../audiocraft/checkpoints/{model_name}/compression_state_dict.bin')\n",
    "\n",
    "model_name = 'only_mix'\n",
    "export.export_lm(f'/home/sd3705/music_gen_2024f/audiocraft_output_sd3705/xps/{model_name}/checkpoint.th', f'../audiocraft/checkpoints/{model_name}/state_dict.bin')\n",
    "export.export_pretrained_compression_model('facebook/encodec_32khz', f'../audiocraft/checkpoints/{model_name}/compression_state_dict.bin')\n",
    "\n",
    "model_name = 'with_submixes'\n",
    "export.export_lm(f'/home/sd3705/music_gen_2024f/audiocraft_output_sd3705/xps/{model_name}/checkpoint.th', f'../audiocraft/checkpoints/{model_name}/state_dict.bin')\n",
    "export.export_pretrained_compression_model('facebook/encodec_32khz', f'../audiocraft/checkpoints/{model_name}/compression_state_dict.bin')"
   ]
  },
  {
   "cell_type": "code",
   "execution_count": null,
   "id": "52989fca",
   "metadata": {},
   "outputs": [],
   "source": [
    "slakh_path = \"/engram/naplab/shared/Slakh2100/slakh2100_flac_redux\" #Dataset path is defined (this should be edited to run in another machine)\n",
    "track_path = \"test/Track01881\" #One track from the test set is chosen to use as the reference track"
   ]
  },
  {
   "cell_type": "code",
   "execution_count": null,
   "id": "027c7475",
   "metadata": {
    "scrolled": true
   },
   "outputs": [],
   "source": [
    "aud_input, sr = torchaudio.load(os.path.join(slakh_path,track_path,'stems','S02.flac')) #The acoustic piano channel of the chosen track is loaded\n",
    "aud_input = aud_input[:,int(sr*1.5):int(sr*11.5)] #Only the 10 seconds of the track is used\n",
    "aud_input_repeated = aud_input.unsqueeze(1).repeat(4,1,1) #The audio is repeated for generating with 4 different set of instruments\n",
    "display_audio(aud_input,sample_rate=sr) #Audio is displayed to play in the notebook"
   ]
  },
  {
   "cell_type": "code",
   "execution_count": null,
   "id": "9c6b41fc",
   "metadata": {},
   "outputs": [],
   "source": [
    "model_name = 'original' #Model name is defined (baseline model)\n",
    "model = MusicGen.get_pretrained('facebook/musicgen-melody') #Pretrained model is loaded\n",
    "model.set_generation_params(duration=10) #Generation length is decided as 10 seconds\n",
    "\n",
    "output = model.generate_with_chroma(\n",
    "    descriptions=[ #Descriptions with different set of instruments are given to the model\n",
    "        'Acoustic Guitar',\n",
    "        'Acoustic Guitar, Halo Pad',\n",
    "        'Acoustic Guitar, Halo Pad, Rock Organ',\n",
    "        'Acoustic Guitar, Halo Pad, Rock Organ, Drums'\n",
    "    ],\n",
    "    melody_wavs=aud_input_repeated, #Reference audio is given to the model\n",
    "    melody_sample_rate=sr, #Input sampling rate\n",
    "    progress=True, return_tokens=True\n",
    ")\n",
    "display_audio(output[0], sample_rate=32000) #Output audio is displayed\n",
    "\n",
    "output_path = 'Samples/Uncompleted' #Folder for saving the generated audios\n",
    "output_cpu = output[0].to('cpu')\n",
    "torchaudio.save(os.path.join(output_path,f\"1_{model_name}.wav\"), output_cpu[0], 32000)\n",
    "torchaudio.save(os.path.join(output_path,f\"2_{model_name}.wav\"), output_cpu[1], 32000)\n",
    "torchaudio.save(os.path.join(output_path,f\"3_{model_name}.wav\"), output_cpu[2], 32000)\n",
    "torchaudio.save(os.path.join(output_path,f\"4_{model_name}.wav\"), output_cpu[3], 32000)"
   ]
  },
  {
   "cell_type": "code",
   "execution_count": null,
   "id": "a0c84ea5",
   "metadata": {},
   "outputs": [],
   "source": [
    "#This block is same with the previous block, except the loaded model is one of the fine-tuned ones\n",
    "model_name = 'both_indv_mix'\n",
    "model = MusicGen.get_pretrained(f'../audiocraft/checkpoints/{model_name}/')\n",
    "model.set_generation_params(duration=10)\n",
    "\n",
    "output = model.generate_with_chroma(\n",
    "    descriptions=[\n",
    "        'Acoustic Guitar',\n",
    "        'Acoustic Guitar, Halo Pad',\n",
    "        'Acoustic Guitar, Halo Pad, Rock Organ',\n",
    "        'Acoustic Guitar, Halo Pad, Rock Organ, Drums'\n",
    "    ],\n",
    "    melody_wavs=aud_input_repeated,\n",
    "    melody_sample_rate=sr,\n",
    "    progress=True, return_tokens=True\n",
    ")\n",
    "display_audio(output[0], sample_rate=32000)\n",
    "\n",
    "output_path = 'Samples/Project Update'\n",
    "output_cpu = output[0].to('cpu')\n",
    "torchaudio.save(os.path.join(output_path,f\"1_{model_name}.wav\"), output_cpu[0], 32000)\n",
    "torchaudio.save(os.path.join(output_path,f\"2_{model_name}.wav\"), output_cpu[1], 32000)\n",
    "torchaudio.save(os.path.join(output_path,f\"3_{model_name}.wav\"), output_cpu[2], 32000)\n",
    "torchaudio.save(os.path.join(output_path,f\"4_{model_name}.wav\"), output_cpu[3], 32000)"
   ]
  },
  {
   "cell_type": "code",
   "execution_count": null,
   "id": "ce42ce53",
   "metadata": {},
   "outputs": [],
   "source": [
    "#This block is same with the previous block, except the loaded model is one of the fine-tuned ones\n",
    "model_name = 'only_mix'\n",
    "model = MusicGen.get_pretrained(f'../audiocraft/checkpoints/{model_name}/')\n",
    "model.set_generation_params(duration=10)\n",
    "\n",
    "output = model.generate_with_chroma(\n",
    "    descriptions=[\n",
    "        'Acoustic Guitar',\n",
    "        'Acoustic Guitar, Halo Pad',\n",
    "        'Acoustic Guitar, Halo Pad, Rock Organ',\n",
    "        'Acoustic Guitar, Halo Pad, Rock Organ, Drums'\n",
    "    ],\n",
    "    melody_wavs=aud_input_repeated,\n",
    "    melody_sample_rate=sr,\n",
    "    progress=True, return_tokens=True\n",
    ")\n",
    "display_audio(output[0], sample_rate=32000)\n",
    "\n",
    "output_path = 'Samples/Uncompleted'\n",
    "output_cpu = output[0].to('cpu')\n",
    "torchaudio.save(os.path.join(output_path,f\"1_{model_name}.wav\"), output_cpu[0], 32000)\n",
    "torchaudio.save(os.path.join(output_path,f\"2_{model_name}.wav\"), output_cpu[1], 32000)\n",
    "torchaudio.save(os.path.join(output_path,f\"3_{model_name}.wav\"), output_cpu[2], 32000)\n",
    "torchaudio.save(os.path.join(output_path,f\"4_{model_name}.wav\"), output_cpu[3], 32000)"
   ]
  },
  {
   "cell_type": "code",
   "execution_count": null,
   "id": "3f0e7c95",
   "metadata": {},
   "outputs": [],
   "source": [
    "#This block is same with the previous block, except the loaded model is one of the fine-tuned ones\n",
    "model_name = 'with_submixes'\n",
    "model = MusicGen.get_pretrained(f'../audiocraft/checkpoints/{model_name}/')\n",
    "model.set_generation_params(duration=10)\n",
    "\n",
    "output = model.generate_with_chroma(\n",
    "    descriptions=[\n",
    "        'Acoustic Guitar',\n",
    "        'Acoustic Guitar, Halo Pad',\n",
    "        'Acoustic Guitar, Halo Pad, Rock Organ',\n",
    "        'Acoustic Guitar, Halo Pad, Rock Organ, Drums'\n",
    "    ],\n",
    "    melody_wavs=aud_input_repeated,\n",
    "    melody_sample_rate=sr,\n",
    "    progress=True, return_tokens=True\n",
    ")\n",
    "display_audio(output[0], sample_rate=32000)\n",
    "\n",
    "output_path = 'Samples/Uncompleted'\n",
    "output_cpu = output[0].to('cpu')\n",
    "torchaudio.save(os.path.join(output_path,f\"1_{model_name}.wav\"), output_cpu[0], 32000)\n",
    "torchaudio.save(os.path.join(output_path,f\"2_{model_name}.wav\"), output_cpu[1], 32000)\n",
    "torchaudio.save(os.path.join(output_path,f\"3_{model_name}.wav\"), output_cpu[2], 32000)\n",
    "torchaudio.save(os.path.join(output_path,f\"4_{model_name}.wav\"), output_cpu[3], 32000)"
   ]
  }
 ],
 "metadata": {
  "kernelspec": {
   "display_name": "Python (audiocraft)",
   "language": "python",
   "name": "audiocraft"
  },
  "language_info": {
   "codemirror_mode": {
    "name": "ipython",
    "version": 3
   },
   "file_extension": ".py",
   "mimetype": "text/x-python",
   "name": "python",
   "nbconvert_exporter": "python",
   "pygments_lexer": "ipython3",
   "version": "3.9.20"
  }
 },
 "nbformat": 4,
 "nbformat_minor": 5
}

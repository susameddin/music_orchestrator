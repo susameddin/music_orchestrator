{
 "cells": [
  {
   "cell_type": "code",
   "execution_count": 1,
   "metadata": {},
   "outputs": [],
   "source": [
    "import json\n",
    "import torch\n",
    "import random\n",
    "import librosa\n",
    "import numpy as np\n",
    "\n",
    "from dataset.vggsound_clsmc import ReproduceVGGSoundCLSMC\n",
    "# you can pass your own function if you have a different file structure\n",
    "# my audio is named: _id + '_' + str(int(start_second)).zfill(6) + '.wav'\n",
    "# e.g. audio_root/-Lmibx_Iu_E_000173.wav\n",
    "# '-Lmibx_Iu_E' is the youtube id; 000173 is the start second\n",
    "from dataset.vggsound_clsmc import get_audio_path\n",
    "\n",
    "SEED = 1234\n",
    "\n",
    "torch.manual_seed(SEED)\n",
    "torch.cuda.manual_seed(SEED)\n",
    "torch.cuda.manual_seed_all(SEED)\n",
    "random.seed(SEED)\n",
    "np.random.seed(SEED)"
   ]
  },
  {
   "cell_type": "code",
   "execution_count": 2,
   "metadata": {},
   "outputs": [],
   "source": [
    "audio_root = '/engram/naplab/shared/VGGSound/audio'\n",
    "video_root = '/engram/naplab/shared/VGGSound/scratch/shared/beegfs/hchen/train_data/VGGSound_final/video'\n",
    "test_json = 'manifests/VGGSound/good/good_test_uni.json'\n",
    "label_distributions_json = 'manifests/VGGSound/label_distributions.json'\n",
    "neg_choices_by = 'distribution'\n",
    "n_choice = 4\n",
    "\n",
    "# This was generated before; Load it for consistency\n",
    "QA_json = f'manifests/VGGSound/QA/good_test_uni_MC{str(n_choice)}_{neg_choices_by}.json'\n",
    "\n",
    "# Results saved here; Make sure the file name matches QA_json\n",
    "results_json = f'results/VGGSound/QA/good_test_uni_MC{str(n_choice)}_{neg_choices_by}/Qwen2-Audio-7B-Instruct.json'"
   ]
  },
  {
   "cell_type": "markdown",
   "metadata": {},
   "source": [
    "## Generate Q/A for this first time. Load it later for evaluation consistency. "
   ]
  },
  {
   "cell_type": "code",
   "execution_count": 3,
   "metadata": {},
   "outputs": [],
   "source": [
    "# from dataset.vggsound_clsmc import RandomVGGSoundCLSMC\n",
    "\n",
    "# test_set = RandomVGGSoundCLSMC(\n",
    "#     manifest_path=test_json,\n",
    "#     label_distributions_path=label_distributions_json,\n",
    "#     neg_choices_by='distribution',\n",
    "#     pos_choice_pos='random',\n",
    "#     n_choice=n_choice,\n",
    "# )\n",
    "\n",
    "# QAs = [x for x in test_set]\n",
    "\n",
    "# print(len(QAs))\n",
    "# print(QAs[0])\n",
    "\n",
    "# json.dump(QAs, open(QA_json, 'w'), indent=4)"
   ]
  },
  {
   "cell_type": "markdown",
   "metadata": {},
   "source": [
    "## Load data"
   ]
  },
  {
   "cell_type": "code",
   "execution_count": 4,
   "metadata": {},
   "outputs": [],
   "source": [
    "test_set = ReproduceVGGSoundCLSMC(\n",
    "    qa_path=QA_json,\n",
    "    data_root=audio_root,\n",
    "    get_path_fn=get_audio_path\n",
    ")"
   ]
  },
  {
   "cell_type": "markdown",
   "metadata": {},
   "source": [
    "## Load model"
   ]
  },
  {
   "cell_type": "code",
   "execution_count": 5,
   "metadata": {},
   "outputs": [
    {
     "data": {
      "application/vnd.jupyter.widget-view+json": {
       "model_id": "1ef246eb8e9049f0a88c5f78a159c1b0",
       "version_major": 2,
       "version_minor": 0
      },
      "text/plain": [
       "Loading checkpoint shards:   0%|          | 0/5 [00:00<?, ?it/s]"
      ]
     },
     "metadata": {},
     "output_type": "display_data"
    }
   ],
   "source": [
    "import librosa\n",
    "from transformers import Qwen2AudioForConditionalGeneration, AutoProcessor\n",
    "\n",
    "processor = AutoProcessor.from_pretrained('Qwen/Qwen2-Audio-7B-Instruct')\n",
    "model = Qwen2AudioForConditionalGeneration.from_pretrained('Qwen/Qwen2-Audio-7B-Instruct', device_map='cuda')"
   ]
  },
  {
   "cell_type": "code",
   "execution_count": 6,
   "metadata": {},
   "outputs": [],
   "source": [
    "model = model.cuda()"
   ]
  },
  {
   "cell_type": "code",
   "execution_count": 7,
   "metadata": {},
   "outputs": [],
   "source": [
    "@torch.no_grad()\n",
    "def infer(wav_path, question, max_length=256):\n",
    "    \n",
    "    conversation = [\n",
    "        {'role': 'system', 'content': 'You are a helpful assistant.'}, \n",
    "        {'role': 'user', 'content': [\n",
    "            {'type': 'audio', 'audio_url': wav_path},\n",
    "            {'type': 'text', 'text': question},\n",
    "        ]},\n",
    "    ]\n",
    "    \n",
    "    text = processor.apply_chat_template(conversation, add_generation_prompt=True, tokenize=False)\n",
    "    audios = []\n",
    "    for message in conversation:\n",
    "        if isinstance(message['content'], list):\n",
    "            for ele in message['content']:\n",
    "                if ele['type'] == 'audio':\n",
    "                    audios.append(\n",
    "                        librosa.load(\n",
    "                            wav_path, \n",
    "                            sr=processor.feature_extractor.sampling_rate)[0]\n",
    "                    )\n",
    "\n",
    "    inputs = processor(text=text, audios=audios, sampling_rate=16000, return_tensors='pt', padding=True)\n",
    "    inputs.input_ids = inputs.input_ids.to('cuda')\n",
    "    \n",
    "    for k, v in inputs.items():\n",
    "        inputs[k] = v.cuda()\n",
    "    \n",
    "    generate_ids = model.generate(**inputs, max_length=max_length)\n",
    "    generate_ids = generate_ids[:, inputs.input_ids.size(1):]\n",
    "\n",
    "    response = processor.batch_decode(generate_ids, skip_special_tokens=True, clean_up_tokenization_spaces=False)[0]\n",
    "    \n",
    "    return response\n"
   ]
  },
  {
   "cell_type": "markdown",
   "metadata": {},
   "source": [
    "## Metrics"
   ]
  },
  {
   "cell_type": "code",
   "execution_count": 8,
   "metadata": {},
   "outputs": [],
   "source": [
    "import re\n",
    "\n",
    "choices = [chr(i) for i in range(ord('A'), ord('A') + n_choice)]\n",
    "\n",
    "def accuracy(answer, solution):\n",
    "    answer = answer.upper()\n",
    "    solution = solution.upper()\n",
    "    \n",
    "    answer = re.sub(r'[^A-Z]', '', answer) # only keep letter\n",
    "    \n",
    "    if len(answer) != 1:\n",
    "        if answer[0] in choices: # [A, B, C, D]\n",
    "            answer = answer[0]\n",
    "        elif answer[-1] in choices: # [A, B, C, D]\n",
    "            answer = answer[-1]\n",
    "        else:\n",
    "            print(answer)\n",
    "            answer = ''\n",
    "    \n",
    "    return answer, answer == solution\n",
    "    "
   ]
  },
  {
   "cell_type": "markdown",
   "metadata": {},
   "source": [
    "## Evaluate!"
   ]
  },
  {
   "cell_type": "code",
   "execution_count": null,
   "metadata": {},
   "outputs": [
    {
     "name": "stderr",
     "output_type": "stream",
     "text": [
      "  0%|          | 0/14202 [00:00<?, ?it/s]Starting from v4.46, the `logits` model output will have the same type as the model (except at train time, where it will always be FP32)\n",
      "We detected that you are passing `past_key_values` as a tuple of tuples. This is deprecated and will be removed in v4.47. Please convert your cache or use an appropriate `Cache` class (https://huggingface.co/docs/transformers/kv_cache#legacy-cache-format)\n",
      "Running Acc: 78.21%:  21%|██▏       | 3043/14202 [28:04<1:37:11,  1.91it/s]"
     ]
    },
    {
     "name": "stdout",
     "output_type": "stream",
     "text": [
      "SAILING\n"
     ]
    },
    {
     "name": "stderr",
     "output_type": "stream",
     "text": [
      "Running Acc: 78.42%:  56%|█████▌    | 7907/14202 [1:12:29<53:10,  1.97it/s]  "
     ]
    }
   ],
   "source": [
    "from tqdm import tqdm\n",
    "\n",
    "total = 0\n",
    "correct = 0\n",
    "tqdm_bar = tqdm(test_set)\n",
    "results = []\n",
    "\n",
    "for x in tqdm_bar:\n",
    "    answer = infer(x['path'], x['question'], max_length=256)\n",
    "    answer, correct_bool = accuracy(answer, x['solution'])\n",
    "    \n",
    "    x['correct'] = correct_bool    \n",
    "    x['answer'] = answer\n",
    "    correct += int(correct_bool)\n",
    "    total += 1\n",
    "    results.append(x)\n",
    "    \n",
    "    tqdm_bar.set_description(f\"Running Acc: {str(round(correct/total*100, 2))}%\")\n",
    "    "
   ]
  },
  {
   "cell_type": "markdown",
   "metadata": {},
   "source": [
    "## Save results"
   ]
  },
  {
   "cell_type": "code",
   "execution_count": null,
   "metadata": {},
   "outputs": [],
   "source": [
    "json.dump(results, open(results_json, 'w'), indent=4)"
   ]
  },
  {
   "cell_type": "code",
   "execution_count": null,
   "metadata": {},
   "outputs": [],
   "source": []
  }
 ],
 "metadata": {
  "kernelspec": {
   "display_name": "Python [conda env:.conda-qwen2]",
   "language": "python",
   "name": "conda-env-.conda-qwen2-py"
  },
  "language_info": {
   "codemirror_mode": {
    "name": "ipython",
    "version": 3
   },
   "file_extension": ".py",
   "mimetype": "text/x-python",
   "name": "python",
   "nbconvert_exporter": "python",
   "pygments_lexer": "ipython3",
   "version": "3.9.18"
  }
 },
 "nbformat": 4,
 "nbformat_minor": 2
}

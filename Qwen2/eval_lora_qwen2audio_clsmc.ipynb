{
 "cells": [
  {
   "cell_type": "code",
   "execution_count": 16,
   "metadata": {},
   "outputs": [],
   "source": [
    "import os\n",
    "import json\n",
    "import torch\n",
    "import random\n",
    "import librosa\n",
    "import numpy as np\n",
    "\n",
    "from transformers import AutoProcessor\n",
    "from hyperpyyaml import load_hyperpyyaml\n",
    "\n",
    "from trainer.utils import load_lora\n",
    "from dataset.vggsound_clsmc import ReproduceVGGSoundCLSMC\n",
    "# you can pass your own function if you have a different file structure\n",
    "# my audio is named: _id + '_' + str(int(start_second)).zfill(6) + '.wav'\n",
    "# e.g. audio_root/-Lmibx_Iu_E_000173.wav\n",
    "# '-Lmibx_Iu_E' is the youtube id; 000173 is the start second\n",
    "from dataset.vggsound_clsmc import get_audio_path\n",
    "\n",
    "SEED = 1234\n",
    "\n",
    "torch.manual_seed(SEED)\n",
    "torch.cuda.manual_seed(SEED)\n",
    "torch.cuda.manual_seed_all(SEED)\n",
    "random.seed(SEED)\n",
    "np.random.seed(SEED)"
   ]
  },
  {
   "cell_type": "code",
   "execution_count": 2,
   "metadata": {},
   "outputs": [],
   "source": [
    "audio_root = '/engram/naplab/shared/VGGSound/audio'\n",
    "video_root = '/engram/naplab/shared/VGGSound/scratch/shared/beegfs/hchen/train_data/VGGSound_final/video'\n",
    "test_json = 'manifests/VGGSound/good/good_test_uni.json'\n",
    "label_distributions_json = 'manifests/VGGSound/label_distributions.json'\n",
    "neg_choices_by = 'distribution'\n",
    "n_choice = 4\n",
    "\n",
    "# This was generated before; Load it for consistency\n",
    "QA_json = f'manifests/VGGSound/QA/good_test_uni_MC{str(n_choice)}_{neg_choices_by}.json'\n",
    "\n",
    "# Results saved here; Make sure the file name matches QA_json\n",
    "results_json = f'results/VGGSound/QA/good_test_uni_MC{str(n_choice)}_{neg_choices_by}/qwen2audio_ALL_VGGSound_MC4_distribution_r16_ep1'"
   ]
  },
  {
   "cell_type": "code",
   "execution_count": 3,
   "metadata": {},
   "outputs": [],
   "source": [
    "ckpt_path = '/engram/naplab/users/xj2289/ckpts/project_synesthesia/Qwen2Audio/checkpoint-17000'\n",
    "hparams_file = 'hparams/sft/qwen2audio_all_vggsound_clsmc.yaml'"
   ]
  },
  {
   "cell_type": "markdown",
   "metadata": {},
   "source": [
    "## Generate Q/A for this first time. Load it later for evaluation consistency. "
   ]
  },
  {
   "cell_type": "code",
   "execution_count": 4,
   "metadata": {},
   "outputs": [],
   "source": [
    "# from dataset.vggsound_clsmc import RandomVGGSoundCLSMC\n",
    "\n",
    "# test_set = RandomVGGSoundCLSMC(\n",
    "#     manifest_path=test_json,\n",
    "#     label_distributions_path=label_distributions_json,\n",
    "#     neg_choices_by='distribution',\n",
    "#     pos_choice_pos='random',\n",
    "#     n_choice=n_choice,\n",
    "# )\n",
    "\n",
    "# QAs = [x for x in test_set]\n",
    "\n",
    "# print(len(QAs))\n",
    "# print(QAs[0])\n",
    "\n",
    "# json.dump(QAs, open(QA_json, 'w'), indent=4)"
   ]
  },
  {
   "cell_type": "markdown",
   "metadata": {},
   "source": [
    "## Load data"
   ]
  },
  {
   "cell_type": "code",
   "execution_count": 5,
   "metadata": {},
   "outputs": [],
   "source": [
    "test_set = ReproduceVGGSoundCLSMC(\n",
    "    qa_path=QA_json,\n",
    "    data_root=audio_root,\n",
    "    get_path_fn=get_audio_path\n",
    ")"
   ]
  },
  {
   "cell_type": "markdown",
   "metadata": {},
   "source": [
    "## Load model"
   ]
  },
  {
   "cell_type": "code",
   "execution_count": 6,
   "metadata": {},
   "outputs": [
    {
     "data": {
      "application/vnd.jupyter.widget-view+json": {
       "model_id": "2395709bba1c495a82b41958c947b6e0",
       "version_major": 2,
       "version_minor": 0
      },
      "text/plain": [
       "Loading checkpoint shards:   0%|          | 0/5 [00:00<?, ?it/s]"
      ]
     },
     "metadata": {},
     "output_type": "display_data"
    },
    {
     "name": "stdout",
     "output_type": "stream",
     "text": [
      "trainable params: 51,773,440 || all params: 8,448,868,352 || trainable%: 0.612785497927001\n"
     ]
    },
    {
     "name": "stderr",
     "output_type": "stream",
     "text": [
      "/home/xj2289/.conda/envs/qwen2/lib/python3.9/site-packages/transformers/training_args.py:1541: FutureWarning: `evaluation_strategy` is deprecated and will be removed in version 4.46 of 🤗 Transformers. Use `eval_strategy` instead\n",
      "  warnings.warn(\n"
     ]
    }
   ],
   "source": [
    "overrides = {\n",
    "    'experiment': 'eval',\n",
    "    'rank': 16\n",
    "}\n",
    "\n",
    "with open(hparams_file) as fin:\n",
    "    hparams = load_hyperpyyaml(fin, overrides)\n",
    "\n",
    "model = hparams['lora_qwen']\n",
    "model.print_trainable_parameters()\n",
    "\n",
    "processor = AutoProcessor.from_pretrained('Qwen/Qwen2-Audio-7B-Instruct')"
   ]
  },
  {
   "cell_type": "code",
   "execution_count": 11,
   "metadata": {},
   "outputs": [],
   "source": [
    "load_lora(model, os.path.join(ckpt_path, 'lora.pt'))"
   ]
  },
  {
   "cell_type": "code",
   "execution_count": 12,
   "metadata": {},
   "outputs": [],
   "source": [
    "model = model.cuda()"
   ]
  },
  {
   "cell_type": "code",
   "execution_count": 18,
   "metadata": {},
   "outputs": [],
   "source": [
    "@torch.no_grad()\n",
    "def infer(wav_path, question, max_length=256):\n",
    "    \n",
    "    conversation = [\n",
    "        {'role': 'system', 'content': 'You are a helpful assistant.'}, \n",
    "        {'role': 'user', 'content': [\n",
    "            {'type': 'audio', 'audio_url': wav_path},\n",
    "            {'type': 'text', 'text': question},\n",
    "        ]},\n",
    "    ]\n",
    "    \n",
    "    text = processor.apply_chat_template(conversation, add_generation_prompt=True, tokenize=False)\n",
    "    audios = []\n",
    "    for message in conversation:\n",
    "        if isinstance(message['content'], list):\n",
    "            for ele in message['content']:\n",
    "                if ele['type'] == 'audio':\n",
    "                    audios.append(\n",
    "                        librosa.load(\n",
    "                            wav_path, \n",
    "                            sr=processor.feature_extractor.sampling_rate)[0]\n",
    "                    )\n",
    "\n",
    "    inputs = processor(text=text, audios=audios, sampling_rate=16000, return_tensors='pt', padding=True)\n",
    "    \n",
    "    for k, v in inputs.items():\n",
    "        inputs[k] = v.cuda()\n",
    "    \n",
    "    generate_ids = model.generate(**inputs, max_length=max_length)\n",
    "    generate_ids = generate_ids[:, inputs.input_ids.size(1):]\n",
    "\n",
    "    response = processor.batch_decode(generate_ids, skip_special_tokens=True, clean_up_tokenization_spaces=False)[0]\n",
    "    \n",
    "    return response\n"
   ]
  },
  {
   "cell_type": "markdown",
   "metadata": {},
   "source": [
    "## Metrics"
   ]
  },
  {
   "cell_type": "code",
   "execution_count": 19,
   "metadata": {},
   "outputs": [],
   "source": [
    "import re\n",
    "\n",
    "choices = [chr(i) for i in range(ord('A'), ord('A') + n_choice)]\n",
    "\n",
    "def accuracy(answer, solution):\n",
    "    answer = answer.upper()\n",
    "    solution = solution.upper()\n",
    "    \n",
    "    answer = re.sub(r'[^A-Z]', '', answer) # only keep letter\n",
    "    \n",
    "    if len(answer) != 1:\n",
    "        if answer[0] in choices: # [A, B, C, D]\n",
    "            answer = answer[0]\n",
    "        elif answer[-1] in choices: # [A, B, C, D]\n",
    "            answer = answer[-1]\n",
    "        else:\n",
    "            print(answer)\n",
    "            answer = ''\n",
    "    \n",
    "    return answer, answer == solution\n",
    "    "
   ]
  },
  {
   "cell_type": "markdown",
   "metadata": {},
   "source": [
    "## Evaluate!"
   ]
  },
  {
   "cell_type": "code",
   "execution_count": null,
   "metadata": {},
   "outputs": [
    {
     "name": "stderr",
     "output_type": "stream",
     "text": [
      "  0%|          | 0/14202 [00:00<?, ?it/s]Starting from v4.46, the `logits` model output will have the same type as the model (except at train time, where it will always be FP32)\n",
      "We detected that you are passing `past_key_values` as a tuple of tuples. This is deprecated and will be removed in v4.47. Please convert your cache or use an appropriate `Cache` class (https://huggingface.co/docs/transformers/kv_cache#legacy-cache-format)\n",
      "Running Acc: 95.91%:   3%|▎         | 391/14202 [03:49<2:40:47,  1.43it/s]"
     ]
    }
   ],
   "source": [
    "from tqdm import tqdm\n",
    "\n",
    "total = 0\n",
    "correct = 0\n",
    "tqdm_bar = tqdm(test_set)\n",
    "results = []\n",
    "\n",
    "for x in tqdm_bar:\n",
    "    answer = infer(x['path'], x['question'], max_length=256)\n",
    "    answer, correct_bool = accuracy(answer, x['solution'])\n",
    "    \n",
    "    x['correct'] = correct_bool    \n",
    "    x['answer'] = answer\n",
    "    correct += int(correct_bool)\n",
    "    total += 1\n",
    "    results.append(x)\n",
    "    \n",
    "    tqdm_bar.set_description(f\"Running Acc: {str(round(correct/total*100, 2))}%\")\n",
    "    "
   ]
  },
  {
   "cell_type": "markdown",
   "metadata": {},
   "source": [
    "## Save results"
   ]
  },
  {
   "cell_type": "code",
   "execution_count": 11,
   "metadata": {},
   "outputs": [],
   "source": [
    "json.dump(results, open(results_json, 'w'), indent=4)"
   ]
  },
  {
   "cell_type": "code",
   "execution_count": 16,
   "metadata": {},
   "outputs": [
    {
     "data": {
      "text/plain": [
       "transformers.models.qwen2_audio.modeling_qwen2_audio.Qwen2AudioForConditionalGeneration"
      ]
     },
     "execution_count": 16,
     "metadata": {},
     "output_type": "execute_result"
    }
   ],
   "source": [
    "type(model)"
   ]
  },
  {
   "cell_type": "code",
   "execution_count": null,
   "metadata": {},
   "outputs": [],
   "source": []
  }
 ],
 "metadata": {
  "kernelspec": {
   "display_name": "Python [conda env:.conda-qwen2]",
   "language": "python",
   "name": "conda-env-.conda-qwen2-py"
  },
  "language_info": {
   "codemirror_mode": {
    "name": "ipython",
    "version": 3
   },
   "file_extension": ".py",
   "mimetype": "text/x-python",
   "name": "python",
   "nbconvert_exporter": "python",
   "pygments_lexer": "ipython3",
   "version": "3.9.18"
  }
 },
 "nbformat": 4,
 "nbformat_minor": 2
}

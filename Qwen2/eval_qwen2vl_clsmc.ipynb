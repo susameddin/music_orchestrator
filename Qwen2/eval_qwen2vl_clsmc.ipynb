{
 "cells": [
  {
   "cell_type": "code",
   "execution_count": 1,
   "metadata": {},
   "outputs": [],
   "source": [
    "import json\n",
    "import torch\n",
    "import random\n",
    "import librosa\n",
    "import numpy as np\n",
    "\n",
    "from dataset.vggsound_clsmc import ReproduceVGGSoundCLSMC\n",
    "# you can pass your own function if you have a different file structure\n",
    "# my audio is named: _id + '_' + str(int(start_second)).zfill(6) + '.wav'\n",
    "# e.g. audio_root/-Lmibx_Iu_E_000173.wav\n",
    "# '-Lmibx_Iu_E' is the youtube id; 000173 is the start second\n",
    "from dataset.vggsound_clsmc import get_video_path\n",
    "\n",
    "SEED = 1234\n",
    "\n",
    "torch.manual_seed(SEED)\n",
    "torch.cuda.manual_seed(SEED)\n",
    "torch.cuda.manual_seed_all(SEED)\n",
    "random.seed(SEED)\n",
    "np.random.seed(SEED)"
   ]
  },
  {
   "cell_type": "code",
   "execution_count": 2,
   "metadata": {},
   "outputs": [],
   "source": [
    "audio_root = '/engram/naplab/shared/VGGSound/audio'\n",
    "video_root = '/engram/naplab/shared/VGGSound/scratch/shared/beegfs/hchen/train_data/VGGSound_final/video'\n",
    "test_json = 'manifests/VGGSound/good/good_test_uni.json'\n",
    "label_distributions_json = 'manifests/VGGSound/label_distributions.json'\n",
    "neg_choices_by = 'distribution'\n",
    "n_choice = 4\n",
    "\n",
    "# This was generated before; Load it for consistency\n",
    "QA_json = f'manifests/VGGSound/QA/good_test_uni_MC{str(n_choice)}_{neg_choices_by}.json'\n",
    "\n",
    "# Results saved here; Make sure the file name matches QA_json\n",
    "FPS = 1\n",
    "MAXP = 512 * 512\n",
    "results_json = f'results/VGGSound/QA/good_test_uni_MC{str(n_choice)}_{neg_choices_by}/Qwen2-VL-7B-Instruct-FPS{str(FPS)}-MP{str(MAXP)}.json'"
   ]
  },
  {
   "cell_type": "markdown",
   "metadata": {},
   "source": [
    "## Generate Q/A for this first time. Load it later for evaluation consistency. "
   ]
  },
  {
   "cell_type": "code",
   "execution_count": 3,
   "metadata": {},
   "outputs": [
    {
     "name": "stdout",
     "output_type": "stream",
     "text": [
      "Should be generated already in eval_qwen2audio_clsmc\n"
     ]
    }
   ],
   "source": [
    "print('Should be generated already in eval_qwen2audio_clsmc')"
   ]
  },
  {
   "cell_type": "markdown",
   "metadata": {},
   "source": [
    "## Load data"
   ]
  },
  {
   "cell_type": "code",
   "execution_count": 4,
   "metadata": {},
   "outputs": [],
   "source": [
    "test_set = ReproduceVGGSoundCLSMC(\n",
    "    qa_path=QA_json,\n",
    "    data_root=video_root,\n",
    "    get_path_fn=get_video_path\n",
    ")"
   ]
  },
  {
   "cell_type": "markdown",
   "metadata": {},
   "source": [
    "## Load model"
   ]
  },
  {
   "cell_type": "code",
   "execution_count": 5,
   "metadata": {},
   "outputs": [
    {
     "name": "stderr",
     "output_type": "stream",
     "text": [
      "Unrecognized keys in `rope_scaling` for 'rope_type'='default': {'mrope_section'}\n",
      "`Qwen2VLRotaryEmbedding` can now be fully parameterized by passing the model config through the `config` argument. All other arguments will be removed in v4.46\n"
     ]
    },
    {
     "data": {
      "application/vnd.jupyter.widget-view+json": {
       "model_id": "51833b73996d4acba6f43c6131f39e5e",
       "version_major": 2,
       "version_minor": 0
      },
      "text/plain": [
       "Loading checkpoint shards:   0%|          | 0/5 [00:00<?, ?it/s]"
      ]
     },
     "metadata": {},
     "output_type": "display_data"
    }
   ],
   "source": [
    "from qwen_vl_utils import process_vision_info\n",
    "from transformers import Qwen2VLForConditionalGeneration, AutoTokenizer, AutoProcessor\n",
    "\n",
    "processor = AutoProcessor.from_pretrained(\"Qwen/Qwen2-VL-7B-Instruct\")\n",
    "model = Qwen2VLForConditionalGeneration.from_pretrained(\n",
    "    \"Qwen/Qwen2-VL-7B-Instruct\", \n",
    "    torch_dtype=torch.bfloat16, \n",
    "    # attn_implementation=\"flash_attention_2\",\n",
    "    device_map=\"cuda\"\n",
    ")"
   ]
  },
  {
   "cell_type": "code",
   "execution_count": 6,
   "metadata": {},
   "outputs": [],
   "source": [
    "@torch.no_grad()\n",
    "def infer(video_path, question, max_new_tokens=32, fps=1.0, max_pixels=512*512):\n",
    "    \n",
    "    messages = [\n",
    "        {'role': 'system', 'content': 'You are a helpful assistant.'}, \n",
    "        {'role': 'user', 'content': [\n",
    "            {'type': 'video', 'video': video_path, 'fps': fps, 'max_pixels': max_pixels},\n",
    "            {'type': 'text', 'text': question},\n",
    "        ]},\n",
    "    ]\n",
    "    \n",
    "    text = processor.apply_chat_template(messages, add_generation_prompt=True, tokenize=False)\n",
    "    image_inputs, video_inputs = process_vision_info(messages)\n",
    "    \n",
    "    assert image_inputs == None\n",
    "\n",
    "    inputs = processor(\n",
    "        text=[text],\n",
    "        images=image_inputs,\n",
    "        videos=video_inputs,\n",
    "        padding=True,\n",
    "        return_tensors=\"pt\",\n",
    "    )\n",
    "    inputs = inputs.to(\"cuda\")\n",
    "\n",
    "    \n",
    "    # Inference: Generation of the output\n",
    "    generated_ids = model.generate(**inputs, max_new_tokens=max_new_tokens)\n",
    "    generated_ids_trimmed = [\n",
    "        out_ids[len(in_ids) :] for in_ids, out_ids in zip(inputs.input_ids, generated_ids)\n",
    "    ]\n",
    "    output_text = processor.batch_decode(\n",
    "        generated_ids_trimmed, skip_special_tokens=True, clean_up_tokenization_spaces=False\n",
    "    )[0]\n",
    "    \n",
    "    return output_text\n"
   ]
  },
  {
   "cell_type": "markdown",
   "metadata": {},
   "source": [
    "## Metrics"
   ]
  },
  {
   "cell_type": "code",
   "execution_count": 7,
   "metadata": {},
   "outputs": [],
   "source": [
    "import re\n",
    "\n",
    "choices = [chr(i) for i in range(ord('A'), ord('A') + n_choice)]\n",
    "\n",
    "def accuracy(answer, solution):\n",
    "    answer = answer.upper()\n",
    "    solution = solution.upper()\n",
    "    \n",
    "    answer = re.sub(r'[^A-Z]', '', answer) # only keep letter\n",
    "    \n",
    "    if len(answer) != 1:\n",
    "        if answer[0] in choices: # [A, B, C, D]\n",
    "            answer = answer[0]\n",
    "        elif answer[-1] in choices: # [A, B, C, D]\n",
    "            answer = answer[-1]\n",
    "        else:\n",
    "            print(answer)\n",
    "            answer = ''\n",
    "    \n",
    "    return answer, answer == solution\n",
    "    "
   ]
  },
  {
   "cell_type": "markdown",
   "metadata": {},
   "source": [
    "## Evaluate!"
   ]
  },
  {
   "cell_type": "code",
   "execution_count": null,
   "metadata": {},
   "outputs": [
    {
     "name": "stderr",
     "output_type": "stream",
     "text": [
      "  0%|          | 0/14202 [00:00<?, ?it/s]qwen-vl-utils using decord to read video.\n",
      "Running Acc: 81.67%:   0%|          | 60/14202 [01:19<5:02:01,  1.28s/it]"
     ]
    }
   ],
   "source": [
    "from tqdm import tqdm\n",
    "\n",
    "total = 0\n",
    "correct = 0\n",
    "tqdm_bar = tqdm(test_set)\n",
    "results = []\n",
    "\n",
    "for x in tqdm_bar:\n",
    "    with torch.autocast(device_type='cuda', dtype=torch.bfloat16):\n",
    "        answer = infer(x['path'], x['question'], max_new_tokens=32, fps=FPS, max_pixels=MAXP)\n",
    "    answer, correct_bool = accuracy(answer, x['solution'])\n",
    "    \n",
    "    x['correct'] = correct_bool \n",
    "    x['answer'] = answer\n",
    "    correct += int(correct_bool)\n",
    "    total += 1\n",
    "    results.append(x)\n",
    "    \n",
    "    tqdm_bar.set_description(f\"Running Acc: {str(round(correct/total*100, 2))}%\")\n"
   ]
  },
  {
   "cell_type": "markdown",
   "metadata": {},
   "source": [
    "## Save results"
   ]
  },
  {
   "cell_type": "code",
   "execution_count": null,
   "metadata": {},
   "outputs": [],
   "source": [
    "json.dump(results, open(results_json, 'w'), indent=4)"
   ]
  },
  {
   "cell_type": "code",
   "execution_count": null,
   "metadata": {},
   "outputs": [],
   "source": []
  }
 ],
 "metadata": {
  "kernelspec": {
   "display_name": "Python [conda env:.conda-qwen2]",
   "language": "python",
   "name": "conda-env-.conda-qwen2-py"
  },
  "language_info": {
   "codemirror_mode": {
    "name": "ipython",
    "version": 3
   },
   "file_extension": ".py",
   "mimetype": "text/x-python",
   "name": "python",
   "nbconvert_exporter": "python",
   "pygments_lexer": "ipython3",
   "version": "3.9.18"
  }
 },
 "nbformat": 4,
 "nbformat_minor": 2
}
